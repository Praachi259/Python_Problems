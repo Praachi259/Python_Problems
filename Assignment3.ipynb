{
 "cells": [
  {
   "cell_type": "code",
   "execution_count": 1,
   "id": "8c291fac-6dfd-4d4d-86cf-a10d302ef035",
   "metadata": {},
   "outputs": [],
   "source": [
    "#1. Question\n",
    "#Create a variable x with the value 15 . Perform floored division by 4 and print the result. What is the difference between floored division and normal\n",
    "#division?"
   ]
  },
  {
   "cell_type": "code",
   "execution_count": 2,
   "id": "8389f7c6-8317-46bb-bcd8-61c3506377d2",
   "metadata": {},
   "outputs": [],
   "source": [
    "X = 15//4"
   ]
  },
  {
   "cell_type": "code",
   "execution_count": 3,
   "id": "9228ef7f-6415-4e21-8713-e9a9b3b9fd35",
   "metadata": {},
   "outputs": [
    {
     "data": {
      "text/plain": [
       "3"
      ]
     },
     "execution_count": 3,
     "metadata": {},
     "output_type": "execute_result"
    }
   ],
   "source": [
    "X"
   ]
  },
  {
   "cell_type": "code",
   "execution_count": 4,
   "id": "2413087d-3b9c-4cbd-ad75-1133a5ea786b",
   "metadata": {},
   "outputs": [],
   "source": [
    "#in floored division output will be the round of to the lowest integer and in normal division the output remains the same"
   ]
  },
  {
   "cell_type": "code",
   "execution_count": 5,
   "id": "b7659e28-b44e-468c-91e0-1aac881e6209",
   "metadata": {},
   "outputs": [],
   "source": [
    "#2. Question\n",
    "#Write a program to calculate 8 ** 2 and 16 ** 0.5 . Print both results and describe what each represents."
   ]
  },
  {
   "cell_type": "code",
   "execution_count": 6,
   "id": "e8cc1f03-db3b-4929-8e2b-44f1eecf87b4",
   "metadata": {},
   "outputs": [],
   "source": [
    "X = 8**2"
   ]
  },
  {
   "cell_type": "code",
   "execution_count": 7,
   "id": "babba6a4-bd4a-416e-b69e-d31388b97dad",
   "metadata": {},
   "outputs": [
    {
     "data": {
      "text/plain": [
       "64"
      ]
     },
     "execution_count": 7,
     "metadata": {},
     "output_type": "execute_result"
    }
   ],
   "source": [
    "X"
   ]
  },
  {
   "cell_type": "code",
   "execution_count": 8,
   "id": "fa93c197-f43a-4c6e-a9ac-2a9b9488aeaf",
   "metadata": {},
   "outputs": [],
   "source": [
    "Y = 16**0.5"
   ]
  },
  {
   "cell_type": "code",
   "execution_count": 9,
   "id": "dc390700-1314-4e4d-ab9e-381a18851b5d",
   "metadata": {},
   "outputs": [
    {
     "data": {
      "text/plain": [
       "4.0"
      ]
     },
     "execution_count": 9,
     "metadata": {},
     "output_type": "execute_result"
    }
   ],
   "source": [
    "Y"
   ]
  },
  {
   "cell_type": "code",
   "execution_count": 10,
   "id": "ff24c761-8dac-4e3a-bc27-814c362ddc73",
   "metadata": {},
   "outputs": [],
   "source": [
    "# X represent the square of the number and Y represent square root"
   ]
  },
  {
   "cell_type": "code",
   "execution_count": 11,
   "id": "91ef946f-5f7a-4f08-ab39-aca52614e46b",
   "metadata": {},
   "outputs": [],
   "source": [
    "#3. Question\n",
    "#Use arithmetic operators to solve the following expression: 20 - 5 * 3 + 8 /4 . Use parentheses to make sure the addition happens before\n",
    "#multiplication. Print the output."
   ]
  },
  {
   "cell_type": "code",
   "execution_count": 12,
   "id": "57a6bcdd-3d0d-49f2-a61c-3a085b7ea51b",
   "metadata": {},
   "outputs": [],
   "source": [
    "X = 20 - 5 *(3+8)/4"
   ]
  },
  {
   "cell_type": "code",
   "execution_count": 13,
   "id": "3a6a1616-dd92-46e3-865a-f1ad76eb8411",
   "metadata": {},
   "outputs": [
    {
     "data": {
      "text/plain": [
       "6.25"
      ]
     },
     "execution_count": 13,
     "metadata": {},
     "output_type": "execute_result"
    }
   ],
   "source": [
    "X"
   ]
  },
  {
   "cell_type": "code",
   "execution_count": 14,
   "id": "c4d876cb-3d7b-4358-9321-a85b7280dd86",
   "metadata": {},
   "outputs": [],
   "source": [
    "#4. Question\n",
    "#Assign the value 7 to a variable num . Convert it to a float and print the result. What is the difference between 7 and 7.0 ?"
   ]
  },
  {
   "cell_type": "code",
   "execution_count": 15,
   "id": "cea1ccea-08ed-4be1-9025-61cd9e936ad2",
   "metadata": {},
   "outputs": [],
   "source": [
    "num = 7"
   ]
  },
  {
   "cell_type": "code",
   "execution_count": 16,
   "id": "14aac2dc-a1cc-4b22-9487-33f618e943f6",
   "metadata": {},
   "outputs": [
    {
     "data": {
      "text/plain": [
       "7"
      ]
     },
     "execution_count": 16,
     "metadata": {},
     "output_type": "execute_result"
    }
   ],
   "source": [
    "num"
   ]
  },
  {
   "cell_type": "code",
   "execution_count": 17,
   "id": "0056c1a0-10de-4ef3-ad6c-3664649c2de0",
   "metadata": {},
   "outputs": [],
   "source": [
    "num = 7.0"
   ]
  },
  {
   "cell_type": "code",
   "execution_count": 18,
   "id": "69d383e7-5ad9-4f3b-a558-edfe029ee74c",
   "metadata": {},
   "outputs": [
    {
     "data": {
      "text/plain": [
       "7.0"
      ]
     },
     "execution_count": 18,
     "metadata": {},
     "output_type": "execute_result"
    }
   ],
   "source": [
    "num"
   ]
  },
  {
   "cell_type": "code",
   "execution_count": 19,
   "id": "cff5bebe-6af0-426f-8d2a-7e85728f53f8",
   "metadata": {},
   "outputs": [],
   "source": [
    "# the one is int data type and another is float data type"
   ]
  },
  {
   "cell_type": "code",
   "execution_count": 20,
   "id": "ba14c097-aa3d-4633-95a7-399a114f4eef",
   "metadata": {},
   "outputs": [],
   "source": [
    "#5. Question\n",
    "#Use a comparison operator to check if 100 is greater than 50 . Print the result and indicate what type of value this is."
   ]
  },
  {
   "cell_type": "code",
   "execution_count": 21,
   "id": "b919f3e3-91ae-4ec0-97cc-5ca0cfbf06ed",
   "metadata": {},
   "outputs": [
    {
     "data": {
      "text/plain": [
       "True"
      ]
     },
     "execution_count": 21,
     "metadata": {},
     "output_type": "execute_result"
    }
   ],
   "source": [
    "100>50"
   ]
  },
  {
   "cell_type": "code",
   "execution_count": 22,
   "id": "660dafd5-cb73-4756-8446-29119c1fcfa9",
   "metadata": {},
   "outputs": [
    {
     "data": {
      "text/plain": [
       "bool"
      ]
     },
     "execution_count": 22,
     "metadata": {},
     "output_type": "execute_result"
    }
   ],
   "source": [
    "type(100>50)"
   ]
  },
  {
   "cell_type": "code",
   "execution_count": 23,
   "id": "d2e68fbc-141a-4846-b5c3-ece29cb2c8f0",
   "metadata": {},
   "outputs": [],
   "source": [
    "#6. Question\n",
    "#Assign True to a variable is_sunny and False to is_weekend . Use logical operators to check if it is sunny and the weekend ( is_sunny and is_weekend ).\n",
    "#Print the result."
   ]
  },
  {
   "cell_type": "code",
   "execution_count": 24,
   "id": "86ffcb5e-628e-4659-a390-979fcf237df6",
   "metadata": {},
   "outputs": [],
   "source": [
    "is_sunny = True "
   ]
  },
  {
   "cell_type": "code",
   "execution_count": 25,
   "id": "34d7245a-5ea4-41f8-bd4e-d0d7bc860a15",
   "metadata": {},
   "outputs": [],
   "source": [
    "is_weekend = False"
   ]
  },
  {
   "cell_type": "code",
   "execution_count": 31,
   "id": "380b66d4-7766-4ff2-9b06-d1393d19139e",
   "metadata": {},
   "outputs": [
    {
     "name": "stdout",
     "output_type": "stream",
     "text": [
      "False\n"
     ]
    }
   ],
   "source": [
    "result = is_sunny and is_weekend\n",
    "print(result)"
   ]
  },
  {
   "cell_type": "code",
   "execution_count": 30,
   "id": "d321e39f-0cf9-4790-a063-302e6fd45f2a",
   "metadata": {},
   "outputs": [],
   "source": [
    "#7. Question\n",
    "#Create a variable password and set it to \"my_password123\" . Ask the user to input a password and print True if the input matches the value of password \n",
    "#otherwise print False ."
   ]
  },
  {
   "cell_type": "code",
   "execution_count": 37,
   "id": "59019f7c-513a-4d64-9527-9e2782c9e43e",
   "metadata": {},
   "outputs": [
    {
     "name": "stdin",
     "output_type": "stream",
     "text": [
      "Enter the password my_password123\n"
     ]
    },
    {
     "name": "stdout",
     "output_type": "stream",
     "text": [
      "True\n"
     ]
    }
   ],
   "source": [
    "password = \"my_password123\"\n",
    "user= input(\"Enter the password\")\n",
    "if user == password:\n",
    "    print(True)\n",
    "else:\n",
    "    print(False)"
   ]
  },
  {
   "cell_type": "code",
   "execution_count": 38,
   "id": "b18f1af8-062b-4267-80ea-c120f35ca595",
   "metadata": {},
   "outputs": [],
   "source": [
    "#8. Question\n",
    "#Assign the value 50 to a variable marks . Increment the value of marks by 5 using the += operator, then print the new value."
   ]
  },
  {
   "cell_type": "code",
   "execution_count": 39,
   "id": "9d960ac6-7b52-406c-9102-c6f9d98477b9",
   "metadata": {},
   "outputs": [],
   "source": [
    "marks = 50\n"
   ]
  },
  {
   "cell_type": "code",
   "execution_count": 40,
   "id": "d670c128-6284-4315-94d7-e6e921c0c9ca",
   "metadata": {},
   "outputs": [],
   "source": [
    "marks +=5"
   ]
  },
  {
   "cell_type": "code",
   "execution_count": 41,
   "id": "bd593aab-20f5-4af6-811f-29d53ff32703",
   "metadata": {},
   "outputs": [
    {
     "data": {
      "text/plain": [
       "55"
      ]
     },
     "execution_count": 41,
     "metadata": {},
     "output_type": "execute_result"
    }
   ],
   "source": [
    "marks"
   ]
  },
  {
   "cell_type": "code",
   "execution_count": 42,
   "id": "8098ee3a-3e2d-4dde-8ad0-e75477688e62",
   "metadata": {},
   "outputs": [],
   "source": [
    "#9. Question\n",
    "#Write a program to check if the value of a = 0 and b = 10 satisfies a or b .Print the output and explain why it gives that result."
   ]
  },
  {
   "cell_type": "code",
   "execution_count": 44,
   "id": "f4024aa1-ae6d-4560-9139-6684269ae221",
   "metadata": {},
   "outputs": [
    {
     "name": "stdout",
     "output_type": "stream",
     "text": [
      "10\n"
     ]
    }
   ],
   "source": [
    "a = 0\n",
    "b = 10 \n",
    "print(a or b)"
   ]
  },
  {
   "cell_type": "code",
   "execution_count": 45,
   "id": "9ded7342-5002-4237-8861-06b851acad4f",
   "metadata": {},
   "outputs": [],
   "source": [
    "# or operator returns the first truth value, here a = 0 which is false so it move to b=10 which is true and gives 10 as a output. "
   ]
  },
  {
   "cell_type": "code",
   "execution_count": 46,
   "id": "af307c62-ab5c-4454-9243-2b665ec3de00",
   "metadata": {},
   "outputs": [],
   "source": [
    "#10. Question\n",
    "#Use not to negate the value of False and print the result. Explain what the not operator does in Python."
   ]
  },
  {
   "cell_type": "code",
   "execution_count": 47,
   "id": "8c09e2c7-654f-4b00-9906-7f617be518b2",
   "metadata": {},
   "outputs": [
    {
     "name": "stdout",
     "output_type": "stream",
     "text": [
      "True\n"
     ]
    }
   ],
   "source": [
    "result = not False\n",
    "print(result)"
   ]
  },
  {
   "cell_type": "code",
   "execution_count": 48,
   "id": "d2f8b4fc-8f58-47dc-bd83-b74f6eb63ed4",
   "metadata": {},
   "outputs": [],
   "source": [
    "# not operator gives the opposite value i.e not True = False and not False = True"
   ]
  },
  {
   "cell_type": "code",
   "execution_count": null,
   "id": "29a75d79-cf16-48b8-82af-face6319ff06",
   "metadata": {},
   "outputs": [],
   "source": []
  }
 ],
 "metadata": {
  "kernelspec": {
   "display_name": "Python 3 (ipykernel)",
   "language": "python",
   "name": "python3"
  },
  "language_info": {
   "codemirror_mode": {
    "name": "ipython",
    "version": 3
   },
   "file_extension": ".py",
   "mimetype": "text/x-python",
   "name": "python",
   "nbconvert_exporter": "python",
   "pygments_lexer": "ipython3",
   "version": "3.11.2"
  }
 },
 "nbformat": 4,
 "nbformat_minor": 5
}
