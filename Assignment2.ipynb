{
 "cells": [
  {
   "cell_type": "code",
   "execution_count": 1,
   "id": "b55237be-a889-473c-a938-b3cb3208b0bd",
   "metadata": {},
   "outputs": [],
   "source": [
    "#1. Question\n",
    "#Create a variable age and assign it the value 25 . Then print the value of age along with its data type using the type() function."
   ]
  },
  {
   "cell_type": "code",
   "execution_count": 2,
   "id": "654b3cdc-f129-41c5-a84c-092f56f940f5",
   "metadata": {},
   "outputs": [],
   "source": [
    "age = 25"
   ]
  },
  {
   "cell_type": "code",
   "execution_count": 3,
   "id": "18b582e1-2322-48a2-9a1f-702e31c0990c",
   "metadata": {},
   "outputs": [
    {
     "data": {
      "text/plain": [
       "25"
      ]
     },
     "execution_count": 3,
     "metadata": {},
     "output_type": "execute_result"
    }
   ],
   "source": [
    "age"
   ]
  },
  {
   "cell_type": "code",
   "execution_count": 4,
   "id": "5c44eaca-ba82-42d2-ae3e-f23892dd320b",
   "metadata": {},
   "outputs": [
    {
     "data": {
      "text/plain": [
       "int"
      ]
     },
     "execution_count": 4,
     "metadata": {},
     "output_type": "execute_result"
    }
   ],
   "source": [
    "type(age)"
   ]
  },
  {
   "cell_type": "code",
   "execution_count": 5,
   "id": "fda90806-40d1-4699-8fa4-eb90b9a42021",
   "metadata": {},
   "outputs": [],
   "source": [
    "#2. Question\n",
    "#Assign the number 12.5 to a variable price . Print both the variable and its data type. Then assign the value 12 to the same variable and print its data\n",
    "#type again. What do you observe?"
   ]
  },
  {
   "cell_type": "code",
   "execution_count": 6,
   "id": "b549ba61-e638-4c51-9189-dddf564bbce8",
   "metadata": {},
   "outputs": [],
   "source": [
    "price= 12.5"
   ]
  },
  {
   "cell_type": "code",
   "execution_count": 8,
   "id": "11643760-41e8-4055-8405-22cff3b05c84",
   "metadata": {},
   "outputs": [
    {
     "name": "stdout",
     "output_type": "stream",
     "text": [
      "12.5\n"
     ]
    },
    {
     "data": {
      "text/plain": [
       "float"
      ]
     },
     "execution_count": 8,
     "metadata": {},
     "output_type": "execute_result"
    }
   ],
   "source": [
    "print(price)\n",
    "type(price)"
   ]
  },
  {
   "cell_type": "code",
   "execution_count": 9,
   "id": "8c6ca0af-ab85-4263-aa04-8cdeaebe8344",
   "metadata": {},
   "outputs": [],
   "source": [
    "price = 12"
   ]
  },
  {
   "cell_type": "code",
   "execution_count": 10,
   "id": "9711145a-3603-4cec-b6b4-35e26f6efcce",
   "metadata": {},
   "outputs": [
    {
     "name": "stdout",
     "output_type": "stream",
     "text": [
      "12\n"
     ]
    },
    {
     "data": {
      "text/plain": [
       "int"
      ]
     },
     "execution_count": 10,
     "metadata": {},
     "output_type": "execute_result"
    }
   ],
   "source": [
    "print(price)\n",
    "type(price)"
   ]
  },
  {
   "cell_type": "code",
   "execution_count": 11,
   "id": "f79c4bdc-93aa-4084-a2f0-9fda9db00290",
   "metadata": {},
   "outputs": [],
   "source": [
    "# the datatype change when the values change i.e when the value is 12.5 then it gives float data type and after the value gets changed from 12.5 to 12\n",
    "# the datatype change and it gives int data type"
   ]
  },
  {
   "cell_type": "code",
   "execution_count": 12,
   "id": "074b61ac-ab2d-4280-99e2-7ae3b1b157e0",
   "metadata": {},
   "outputs": [],
   "source": [
    "#3. Question\n",
    "#Create a variable is_raining and set it to True . Print the value of the variable along with its type.\n",
    "#Then set is_raining to False and print the new value and type."
   ]
  },
  {
   "cell_type": "code",
   "execution_count": 13,
   "id": "a8c23fd5-edb1-4b79-bf19-20a825a29117",
   "metadata": {},
   "outputs": [],
   "source": [
    "is_raining = True"
   ]
  },
  {
   "cell_type": "code",
   "execution_count": 14,
   "id": "f3b547e1-1452-47e6-a616-c0d248e4ef74",
   "metadata": {},
   "outputs": [
    {
     "name": "stdout",
     "output_type": "stream",
     "text": [
      "True\n"
     ]
    },
    {
     "data": {
      "text/plain": [
       "bool"
      ]
     },
     "execution_count": 14,
     "metadata": {},
     "output_type": "execute_result"
    }
   ],
   "source": [
    "print(is_raining)\n",
    "type(is_raining)"
   ]
  },
  {
   "cell_type": "code",
   "execution_count": 15,
   "id": "0e45d6e9-356c-40c1-858f-dc06e91bf60f",
   "metadata": {},
   "outputs": [],
   "source": [
    "is_raining = False"
   ]
  },
  {
   "cell_type": "code",
   "execution_count": 16,
   "id": "69dec345-6af9-430f-a1b0-752b3b14e14e",
   "metadata": {},
   "outputs": [
    {
     "name": "stdout",
     "output_type": "stream",
     "text": [
      "False\n"
     ]
    },
    {
     "data": {
      "text/plain": [
       "bool"
      ]
     },
     "execution_count": 16,
     "metadata": {},
     "output_type": "execute_result"
    }
   ],
   "source": [
    "print(is_raining)\n",
    "type(is_raining)"
   ]
  },
  {
   "cell_type": "code",
   "execution_count": 17,
   "id": "b697eabb-a27e-4cd8-8a72-8c33057fb868",
   "metadata": {},
   "outputs": [],
   "source": [
    "#4. Question\n",
    "#Create a variable my_name and store your full name in it as a string. Then print the value of my_name using single quotes ' ."
   ]
  },
  {
   "cell_type": "code",
   "execution_count": 18,
   "id": "bc1b1279-b9af-4693-a451-928325ed5340",
   "metadata": {},
   "outputs": [],
   "source": [
    "my_name = \"Prachi\""
   ]
  },
  {
   "cell_type": "code",
   "execution_count": 23,
   "id": "18d7b28b-1c8a-4336-ae7f-e8edd5a53d6f",
   "metadata": {},
   "outputs": [
    {
     "data": {
      "text/plain": [
       "'Prachi'"
      ]
     },
     "execution_count": 23,
     "metadata": {},
     "output_type": "execute_result"
    }
   ],
   "source": [
    "my_name"
   ]
  },
  {
   "cell_type": "code",
   "execution_count": 24,
   "id": "842bef3a-39a5-471d-a65c-3dd6a97c96cc",
   "metadata": {},
   "outputs": [],
   "source": [
    "#5. Question\n",
    "#Write a Python program that asks the user for their name and age using the input() function. Store the inputs in variables and print a sentence like\n",
    "#\"Hello, [Name]! You are [Age] years old.\" Ensure you cast the age to an integer."
   ]
  },
  {
   "cell_type": "code",
   "execution_count": 27,
   "id": "fca8bd67-28dc-4cf2-9dfe-065f27879631",
   "metadata": {},
   "outputs": [
    {
     "name": "stdin",
     "output_type": "stream",
     "text": [
      "Enter your name prachi\n",
      "Enter your age 21\n"
     ]
    },
    {
     "name": "stdout",
     "output_type": "stream",
     "text": [
      "Hello prachi ! you are  21 years old.\n"
     ]
    }
   ],
   "source": [
    "name= input(\"Enter your name\")\n",
    "age=int(input(\"Enter your age\"))\n",
    "print(\"Hello\",name,\"! you are \",age,\"years old.\")"
   ]
  },
  {
   "cell_type": "code",
   "execution_count": 28,
   "id": "b23d58b6-0c49-41c4-bc23-22223a4330a8",
   "metadata": {},
   "outputs": [],
   "source": [
    "#6. Question\n",
    "#Create two variables x and y and assign them the values 10 and 3.5 , respectively. Print their values and types. Then, create a new variable\n",
    "#sum_xy and store the sum of x and y . Print the result and its type."
   ]
  },
  {
   "cell_type": "code",
   "execution_count": 29,
   "id": "cc5106fd-04de-44eb-8ca3-0dee4a0ecfed",
   "metadata": {},
   "outputs": [],
   "source": [
    "X = 10"
   ]
  },
  {
   "cell_type": "code",
   "execution_count": 34,
   "id": "4eecf630-4134-4f6d-99ed-20e4634f73e1",
   "metadata": {},
   "outputs": [
    {
     "name": "stdout",
     "output_type": "stream",
     "text": [
      "10\n"
     ]
    },
    {
     "data": {
      "text/plain": [
       "int"
      ]
     },
     "execution_count": 34,
     "metadata": {},
     "output_type": "execute_result"
    }
   ],
   "source": [
    "print(X)\n",
    "type(X)"
   ]
  },
  {
   "cell_type": "code",
   "execution_count": 31,
   "id": "077fedb9-db28-4fa5-a0af-b8927d43e279",
   "metadata": {},
   "outputs": [],
   "source": [
    "Y= 3.5"
   ]
  },
  {
   "cell_type": "code",
   "execution_count": 33,
   "id": "5f54bcbc-9838-4695-a2cf-6d0b54bcf5d3",
   "metadata": {},
   "outputs": [
    {
     "name": "stdout",
     "output_type": "stream",
     "text": [
      "3.5\n"
     ]
    },
    {
     "data": {
      "text/plain": [
       "float"
      ]
     },
     "execution_count": 33,
     "metadata": {},
     "output_type": "execute_result"
    }
   ],
   "source": [
    "print(Y)\n",
    "type(Y)"
   ]
  },
  {
   "cell_type": "code",
   "execution_count": 35,
   "id": "5435151a-9f9b-4af0-9f3e-3f30af0617aa",
   "metadata": {},
   "outputs": [],
   "source": [
    "sum_xy = X+Y"
   ]
  },
  {
   "cell_type": "code",
   "execution_count": 36,
   "id": "aaed359a-565e-426e-9ce7-cfcbc9ff9976",
   "metadata": {},
   "outputs": [
    {
     "name": "stdout",
     "output_type": "stream",
     "text": [
      "13.5\n"
     ]
    },
    {
     "data": {
      "text/plain": [
       "float"
      ]
     },
     "execution_count": 36,
     "metadata": {},
     "output_type": "execute_result"
    }
   ],
   "source": [
    "print(sum_xy)\n",
    "type(sum_xy)"
   ]
  },
  {
   "cell_type": "code",
   "execution_count": 37,
   "id": "2370e173-2c22-440b-a99d-7651de4a109c",
   "metadata": {},
   "outputs": [],
   "source": [
    "#7. Question\n",
    "#Using the type() function, check and print the data type of the following:\n",
    "#45.0\n",
    "#\"hello\"\n",
    "#None\n",
    "#False"
   ]
  },
  {
   "cell_type": "code",
   "execution_count": 38,
   "id": "4cdde182-a47c-4c82-a4dd-b86893194732",
   "metadata": {},
   "outputs": [
    {
     "data": {
      "text/plain": [
       "float"
      ]
     },
     "execution_count": 38,
     "metadata": {},
     "output_type": "execute_result"
    }
   ],
   "source": [
    "type(45.0)"
   ]
  },
  {
   "cell_type": "code",
   "execution_count": 39,
   "id": "ca3833c8-d2ef-423b-8d2b-4b98c60aba06",
   "metadata": {},
   "outputs": [
    {
     "data": {
      "text/plain": [
       "str"
      ]
     },
     "execution_count": 39,
     "metadata": {},
     "output_type": "execute_result"
    }
   ],
   "source": [
    "type(\"hello\")"
   ]
  },
  {
   "cell_type": "code",
   "execution_count": 40,
   "id": "a5c2a71d-532e-4f88-8867-6f9ab6c5df7e",
   "metadata": {},
   "outputs": [
    {
     "data": {
      "text/plain": [
       "NoneType"
      ]
     },
     "execution_count": 40,
     "metadata": {},
     "output_type": "execute_result"
    }
   ],
   "source": [
    "type(None)"
   ]
  },
  {
   "cell_type": "code",
   "execution_count": 41,
   "id": "3c51be34-7c35-4cb4-9c82-273df108f042",
   "metadata": {},
   "outputs": [
    {
     "data": {
      "text/plain": [
       "bool"
      ]
     },
     "execution_count": 41,
     "metadata": {},
     "output_type": "execute_result"
    }
   ],
   "source": [
    "type(False)"
   ]
  },
  {
   "cell_type": "code",
   "execution_count": 42,
   "id": "6e2edb79-5ca3-47b2-ae81-c69301ddfa1a",
   "metadata": {},
   "outputs": [],
   "source": [
    "#8. Question\n",
    "#Write a Python program to print three strings \"apple\" , \"banana\" , and \"cherry\" on the same line, separated by a space. Then modify the program to\n",
    "#separate the strings using a comma , instead of a space."
   ]
  },
  {
   "cell_type": "code",
   "execution_count": 44,
   "id": "0aefe485-123e-4ea3-a2a8-168d4600d259",
   "metadata": {},
   "outputs": [
    {
     "name": "stdout",
     "output_type": "stream",
     "text": [
      "apple banana cherry\n"
     ]
    }
   ],
   "source": [
    "print(\"apple\",\"banana\",\"cherry\",sep = \" \")"
   ]
  },
  {
   "cell_type": "code",
   "execution_count": 45,
   "id": "9e08d684-2aa7-498e-8519-d560783aad95",
   "metadata": {},
   "outputs": [
    {
     "name": "stdout",
     "output_type": "stream",
     "text": [
      "apple,banana,cherry\n"
     ]
    }
   ],
   "source": [
    "print(\"apple\",\"banana\",\"cherry\",sep = \",\")"
   ]
  },
  {
   "cell_type": "code",
   "execution_count": 46,
   "id": "6eb2082b-d155-40c8-9c91-601866ca59d4",
   "metadata": {},
   "outputs": [],
   "source": [
    "#9. Question\n",
    "#Create a variable big_number and assign it a very large integer value (e.g., 987654321987654321 ). Print the value and its type. What do you notice\n",
    "#about the size of the number?"
   ]
  },
  {
   "cell_type": "code",
   "execution_count": 47,
   "id": "411b0c45-7d4f-4672-9b7f-c2b2030a53c9",
   "metadata": {},
   "outputs": [],
   "source": [
    "big_number = 987654321987654321"
   ]
  },
  {
   "cell_type": "code",
   "execution_count": 48,
   "id": "3b4828ce-e413-49ff-96ce-0eae37ca40f9",
   "metadata": {},
   "outputs": [
    {
     "data": {
      "text/plain": [
       "987654321987654321"
      ]
     },
     "execution_count": 48,
     "metadata": {},
     "output_type": "execute_result"
    }
   ],
   "source": [
    "big_number"
   ]
  },
  {
   "cell_type": "code",
   "execution_count": 49,
   "id": "84ac6e87-9cba-4aa2-9362-36e6587d7b75",
   "metadata": {},
   "outputs": [
    {
     "data": {
      "text/plain": [
       "int"
      ]
     },
     "execution_count": 49,
     "metadata": {},
     "output_type": "execute_result"
    }
   ],
   "source": [
    "type(big_number)"
   ]
  },
  {
   "cell_type": "code",
   "execution_count": 50,
   "id": "66c46dbd-6933-41a5-b678-7d288050f37b",
   "metadata": {},
   "outputs": [],
   "source": [
    "# it remains as a integer"
   ]
  },
  {
   "cell_type": "code",
   "execution_count": 51,
   "id": "056c27d5-06c9-4fb4-a9e7-f65d0f7c58ca",
   "metadata": {},
   "outputs": [],
   "source": [
    "#10. Question\n",
    "#Write a Python program that prints the result of multiplying two floats (e.g., 2.5 and 3.7 ). Then check and print the data type of the result."
   ]
  },
  {
   "cell_type": "code",
   "execution_count": 52,
   "id": "879b007a-4800-48fe-b796-544f253c8819",
   "metadata": {},
   "outputs": [],
   "source": [
    "X=2.5*3.7"
   ]
  },
  {
   "cell_type": "code",
   "execution_count": 53,
   "id": "2b6fdd87-aed6-4f55-bfde-7e0842f20901",
   "metadata": {},
   "outputs": [
    {
     "data": {
      "text/plain": [
       "9.25"
      ]
     },
     "execution_count": 53,
     "metadata": {},
     "output_type": "execute_result"
    }
   ],
   "source": [
    "X"
   ]
  },
  {
   "cell_type": "code",
   "execution_count": 54,
   "id": "888cc0d6-958a-42d6-a21a-bec9b459b134",
   "metadata": {},
   "outputs": [
    {
     "data": {
      "text/plain": [
       "float"
      ]
     },
     "execution_count": 54,
     "metadata": {},
     "output_type": "execute_result"
    }
   ],
   "source": [
    "type(X)"
   ]
  },
  {
   "cell_type": "code",
   "execution_count": null,
   "id": "502a98ae-3ea5-4cf1-b779-03e905e0d4fa",
   "metadata": {},
   "outputs": [],
   "source": []
  }
 ],
 "metadata": {
  "kernelspec": {
   "display_name": "Python 3 (ipykernel)",
   "language": "python",
   "name": "python3"
  },
  "language_info": {
   "codemirror_mode": {
    "name": "ipython",
    "version": 3
   },
   "file_extension": ".py",
   "mimetype": "text/x-python",
   "name": "python",
   "nbconvert_exporter": "python",
   "pygments_lexer": "ipython3",
   "version": "3.11.2"
  }
 },
 "nbformat": 4,
 "nbformat_minor": 5
}
