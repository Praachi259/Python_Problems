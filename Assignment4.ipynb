{
 "cells": [
  {
   "cell_type": "code",
   "execution_count": 1,
   "id": "40bec656-a37f-4c8f-b720-f81d8d72da12",
   "metadata": {},
   "outputs": [],
   "source": [
    "#1. Question\n",
    "#Write a Python program that checks if a number entered by the user is even or odd. Print \"Even\" if the number is even and \"Odd\" if it is odd."
   ]
  },
  {
   "cell_type": "code",
   "execution_count": 2,
   "id": "c3f5da89-149f-4e8f-a5bb-e718f7d39dc0",
   "metadata": {},
   "outputs": [
    {
     "name": "stdin",
     "output_type": "stream",
     "text": [
      "Enter the num 5\n"
     ]
    },
    {
     "name": "stdout",
     "output_type": "stream",
     "text": [
      "odd\n"
     ]
    }
   ],
   "source": [
    "num = int(input(\"Enter the num\"))\n",
    "if num%2==0:\n",
    "    print(\"even\")\n",
    "else:\n",
    "    print(\"odd\")"
   ]
  },
  {
   "cell_type": "code",
   "execution_count": 3,
   "id": "a06899e0-d0a1-4bfa-8bfd-ee1ff684e402",
   "metadata": {},
   "outputs": [],
   "source": [
    "#2. Question\n",
    "#Create a program that prompts the user for their age and prints whether they are a child (0-12), teenager (13-19), or adult (20 and above)."
   ]
  },
  {
   "cell_type": "code",
   "execution_count": 6,
   "id": "40164962-84c4-4a2f-a1bc-46ed37ef0400",
   "metadata": {},
   "outputs": [
    {
     "name": "stdin",
     "output_type": "stream",
     "text": [
      "Enter the age 17\n"
     ]
    },
    {
     "name": "stdout",
     "output_type": "stream",
     "text": [
      "teenager\n"
     ]
    }
   ],
   "source": [
    "age = int(input(\"Enter the age\"))\n",
    "if 0<=age<=12:\n",
    "    print(\"child\")\n",
    "elif 13<=age<=19:\n",
    "    print(\"teenager\")\n",
    "else:\n",
    "    print(\"adult\")"
   ]
  },
  {
   "cell_type": "code",
   "execution_count": 7,
   "id": "9bf479c9-1db8-4384-9042-8287ba67e7a1",
   "metadata": {},
   "outputs": [],
   "source": [
    "#3. Question\n",
    "#Write a program that takes two numbers as input from the user and prints which number is larger. If both numbers are equal, print \"Both numbers are\n",
    "#equal.\""
   ]
  },
  {
   "cell_type": "code",
   "execution_count": 9,
   "id": "2bb3fa23-c6ec-4ccb-a6f8-23aeebc3867b",
   "metadata": {},
   "outputs": [
    {
     "name": "stdin",
     "output_type": "stream",
     "text": [
      "Enter the num 89\n",
      "Enter the num 45\n"
     ]
    },
    {
     "name": "stdout",
     "output_type": "stream",
     "text": [
      "89 is larger\n"
     ]
    }
   ],
   "source": [
    "num1 = int(input(\"Enter the num\"))\n",
    "num2 = int(input(\"Enter the num\"))\n",
    "if num1 == num2:\n",
    "    print(\"Both numbers are equal\")\n",
    "elif num1>num2:\n",
    "    print(num1,\"is larger\")\n",
    "else:\n",
    "    print(num2,\"is larger\")"
   ]
  },
  {
   "cell_type": "code",
   "execution_count": 10,
   "id": "7566a7e4-7eea-4d9c-a5dd-2f4d3e1fb884",
   "metadata": {},
   "outputs": [],
   "source": [
    "#4. Question\n",
    "#Create a program that checks if a user-entered password matches the string \"securePassword\". Print \"Access Granted\" if it matches, otherwise\n",
    "#print \"Access Denied.\""
   ]
  },
  {
   "cell_type": "code",
   "execution_count": 12,
   "id": "7f2dd513-a44c-4ca3-8ac4-5ad477b66e3e",
   "metadata": {},
   "outputs": [
    {
     "name": "stdin",
     "output_type": "stream",
     "text": [
      "Enter the Password securepassword\n"
     ]
    },
    {
     "name": "stdout",
     "output_type": "stream",
     "text": [
      "Access Granted\n"
     ]
    }
   ],
   "source": [
    "correct_password = \"securepassword\"\n",
    "user_password = input(\"Enter the Password\")\n",
    "if user_password == correct_password:\n",
    "    print(\"Access Granted\")\n",
    "else:\n",
    "    print(\"Access Denied\")"
   ]
  },
  {
   "cell_type": "code",
   "execution_count": 13,
   "id": "6caaadfc-b7b7-4dc9-ba0c-b5efad8c9673",
   "metadata": {},
   "outputs": [],
   "source": [
    "#5. Question\n",
    "#Write a program that takes a score from the user (0-100) and prints corresponding grade:\n",
    "#A for 90-100\n",
    "#B for 80-89\n",
    "#C for 70-79\n",
    "#D for 60-69\n",
    "#F for below 60"
   ]
  },
  {
   "cell_type": "code",
   "execution_count": 19,
   "id": "65e7f7f7-f73c-4976-8de4-85f34498c716",
   "metadata": {},
   "outputs": [
    {
     "name": "stdin",
     "output_type": "stream",
     "text": [
      "Enter the score 87\n"
     ]
    },
    {
     "name": "stdout",
     "output_type": "stream",
     "text": [
      "B grade\n"
     ]
    }
   ],
   "source": [
    "score = int(input(\"Enter the score\"))\n",
    "if 90<=score<=100:\n",
    "    print(\"A grade\")\n",
    "elif 80<=score<=89:\n",
    "    print(\"B grade\")\n",
    "elif 70<=score<=79:\n",
    "    print(\"C grade\")\n",
    "elif 60<=score<=69:\n",
    "    print(\"D grade\")\n",
    "else:\n",
    "    print(\"F grade\")"
   ]
  },
  {
   "cell_type": "code",
   "execution_count": 20,
   "id": "e64b8cab-78f0-4512-ae32-86790e2a6587",
   "metadata": {},
   "outputs": [],
   "source": [
    "#6. Question\n",
    "#Create a program that asks the user for a number and checks if it is positive, negative, or zero. Print the corresponding message."
   ]
  },
  {
   "cell_type": "code",
   "execution_count": 23,
   "id": "23417ae0-309b-42e1-b932-9f5a213cf552",
   "metadata": {},
   "outputs": [
    {
     "name": "stdin",
     "output_type": "stream",
     "text": [
      "Enter the num -3\n"
     ]
    },
    {
     "name": "stdout",
     "output_type": "stream",
     "text": [
      "negative\n"
     ]
    }
   ],
   "source": [
    "num = int(input(\"Enter the num\"))\n",
    "if num==0:\n",
    "    print(\"zero\")\n",
    "elif num>0:\n",
    "    print(\"positive\")\n",
    "else:\n",
    "    print(\"negative\")"
   ]
  },
  {
   "cell_type": "code",
   "execution_count": 24,
   "id": "2c6241c1-8990-44ce-ae72-9e4038cf5b07",
   "metadata": {},
   "outputs": [],
   "source": [
    "#7. Question\n",
    "#Write a program that takes three numbers from the user and determines the largest of the three. Print the largest number."
   ]
  },
  {
   "cell_type": "code",
   "execution_count": 26,
   "id": "9b75a5b4-1a6a-4e48-9b99-8629fd37fe2d",
   "metadata": {},
   "outputs": [
    {
     "name": "stdin",
     "output_type": "stream",
     "text": [
      "Enter the num 67\n",
      "Enter the num 57\n",
      "Enter the num 89\n"
     ]
    },
    {
     "name": "stdout",
     "output_type": "stream",
     "text": [
      "The largest number is  89.0\n"
     ]
    }
   ],
   "source": [
    "num1 = float(input(\"Enter the num\"))\n",
    "num2 = float(input(\"Enter the num\"))\n",
    "num3 = float(input(\"Enter the num\"))\n",
    "largest_num = max(num1,num2,num3)\n",
    "print(\"The largest number is \",largest_num)\n"
   ]
  },
  {
   "cell_type": "code",
   "execution_count": 27,
   "id": "1c861c88-9c7d-4ee2-b7fd-225d9c89f5fa",
   "metadata": {},
   "outputs": [],
   "source": [
    "#8. Question\n",
    "#Create a program that checks if a user-entered character is a vowel (a, e, i, o, u) or a consonant. Print the corresponding message."
   ]
  },
  {
   "cell_type": "code",
   "execution_count": 29,
   "id": "3bde3d1d-bb0a-4ce2-8a70-3abc73e730f5",
   "metadata": {},
   "outputs": [
    {
     "name": "stdin",
     "output_type": "stream",
     "text": [
      "Enter the character u\n"
     ]
    },
    {
     "name": "stdout",
     "output_type": "stream",
     "text": [
      "Vowels\n"
     ]
    }
   ],
   "source": [
    "user_input = input(\"Enter the character\")\n",
    "if user_input =='a' or user_input == 'e' or user_input == 'i' or user_input == 'o' or user_input == 'u':\n",
    "    print(\"Vowels\")\n",
    "else:\n",
    "    print(\"consonant\")"
   ]
  },
  {
   "cell_type": "code",
   "execution_count": 30,
   "id": "08f81986-9627-48b9-bbb8-c4aa58914beb",
   "metadata": {},
   "outputs": [],
   "source": [
    "#9. Question\n",
    "#Write a program that checks if a given year is a leap year. A year is a leap\n",
    "#year if it is divisible by 4, except for years that are divisible by 100 but not divisible by 400."
   ]
  },
  {
   "cell_type": "code",
   "execution_count": 33,
   "id": "3779893d-2142-46fb-95ad-db9359cc733e",
   "metadata": {},
   "outputs": [
    {
     "name": "stdin",
     "output_type": "stream",
     "text": [
      "Enter the year 1997\n"
     ]
    },
    {
     "name": "stdout",
     "output_type": "stream",
     "text": [
      "This is not a leap year\n"
     ]
    }
   ],
   "source": [
    "year=int(input(\"Enter the year\"))\n",
    "if year%400==0:\n",
    "    print(\"This is a leap year\")\n",
    "elif year%4==0 and year%100!=0:\n",
    "    print(\"This is a leap year\")\n",
    "else:\n",
    "    print(\"This is not a leap year\")"
   ]
  },
  {
   "cell_type": "code",
   "execution_count": 34,
   "id": "852b0418-32d0-47d2-8815-3f8729fff3a6",
   "metadata": {},
   "outputs": [],
   "source": [
    "#10. Question\n",
    "#Create a program that prompts the user for a temperature in Celsius and converts it to Fahrenheit. If the converted temperature is greater than 100°F,\n",
    "#print \"It's boiling!\" Otherwise, print \"It's not boiling yet.\""
   ]
  },
  {
   "cell_type": "code",
   "execution_count": 36,
   "id": "459e5471-cf63-41bc-ae7d-519d0375c302",
   "metadata": {},
   "outputs": [
    {
     "name": "stdin",
     "output_type": "stream",
     "text": [
      "Enter the temperature in celsius 100\n"
     ]
    },
    {
     "name": "stdout",
     "output_type": "stream",
     "text": [
      "it is boiling!\n"
     ]
    }
   ],
   "source": [
    "temperature = int(input(\"Enter the temperature in celsius\"))\n",
    "fahrenhite_temperature = (temperature*9/5)+32\n",
    "if fahrenhite_temperature >100:\n",
    "    print(\"it is boiling!\")\n",
    "else:\n",
    "    print(\"it is not boiling yet\")\n"
   ]
  },
  {
   "cell_type": "code",
   "execution_count": null,
   "id": "a79fbd3d-13ad-4120-a37a-da0f67a97ba1",
   "metadata": {},
   "outputs": [],
   "source": []
  }
 ],
 "metadata": {
  "kernelspec": {
   "display_name": "Python 3 (ipykernel)",
   "language": "python",
   "name": "python3"
  },
  "language_info": {
   "codemirror_mode": {
    "name": "ipython",
    "version": 3
   },
   "file_extension": ".py",
   "mimetype": "text/x-python",
   "name": "python",
   "nbconvert_exporter": "python",
   "pygments_lexer": "ipython3",
   "version": "3.11.2"
  }
 },
 "nbformat": 4,
 "nbformat_minor": 5
}
