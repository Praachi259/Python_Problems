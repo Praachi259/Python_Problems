{
 "cells": [
  {
   "cell_type": "code",
   "execution_count": 3,
   "id": "0ac85d0b-a651-4140-ac0e-d784e334fe53",
   "metadata": {},
   "outputs": [],
   "source": [
    "#1. Question\n",
    "#Write a Python program to print your name and favourite colour on two\n",
    "#separate lines."
   ]
  },
  {
   "cell_type": "code",
   "execution_count": 4,
   "id": "38b6047f-2756-4002-9caa-3edaf24ab393",
   "metadata": {},
   "outputs": [
    {
     "name": "stdout",
     "output_type": "stream",
     "text": [
      "prachi \n",
      "red\n"
     ]
    }
   ],
   "source": [
    "print(\"prachi \\nred\")"
   ]
  },
  {
   "cell_type": "code",
   "execution_count": 5,
   "id": "90c9c7f2-a571-44bc-83fb-370f598c52f0",
   "metadata": {},
   "outputs": [],
   "source": [
    "#2. Question\n",
    "#Write a Python program that prints the result of adding 7 and 8."
   ]
  },
  {
   "cell_type": "code",
   "execution_count": 7,
   "id": "f4b211b1-a4d2-4d07-95f8-2aa00be2f558",
   "metadata": {},
   "outputs": [
    {
     "name": "stdout",
     "output_type": "stream",
     "text": [
      "15\n"
     ]
    }
   ],
   "source": [
    "print(7+8)"
   ]
  },
  {
   "cell_type": "code",
   "execution_count": 8,
   "id": "cd979e4d-381d-45d1-9395-aa8de587d2f0",
   "metadata": {},
   "outputs": [],
   "source": [
    "#3. Question\n",
    "#Use the print function to display the following text exactly as it is:\n",
    "#python is fun!\n",
    "#Let's learn together."
   ]
  },
  {
   "cell_type": "code",
   "execution_count": 10,
   "id": "1a9e855a-e2a9-4a8e-aeb3-1a8e012e3d4c",
   "metadata": {},
   "outputs": [
    {
     "name": "stdout",
     "output_type": "stream",
     "text": [
      "Python is fun!\n",
      "Let's learn together\n"
     ]
    }
   ],
   "source": [
    "print(\"Python is fun!\")\n",
    "print(\"Let's learn together\")"
   ]
  },
  {
   "cell_type": "code",
   "execution_count": 11,
   "id": "3515d1f3-3773-4c4d-b7ec-af93b14ee38d",
   "metadata": {},
   "outputs": [],
   "source": [
    "#4. Question\n",
    "#Write a Python program to calculate and print the result of multiplying 6 by 9."
   ]
  },
  {
   "cell_type": "code",
   "execution_count": 13,
   "id": "8421be8e-09ff-4d72-b9cb-c6a2ba30a856",
   "metadata": {},
   "outputs": [
    {
     "name": "stdout",
     "output_type": "stream",
     "text": [
      "54\n"
     ]
    }
   ],
   "source": [
    "product = 6*9\n",
    "print(product)"
   ]
  },
  {
   "cell_type": "code",
   "execution_count": 14,
   "id": "c4f2279a-e941-4f07-a59b-aeade773f5d1",
   "metadata": {},
   "outputs": [],
   "source": [
    "#5. Question\n",
    "#Write a Python program that prints the result of adding 5+5 and\n",
    "#multiplying 2 3 in a single line of code"
   ]
  },
  {
   "cell_type": "code",
   "execution_count": 18,
   "id": "b7437a37-5671-457e-aa7d-46302701c400",
   "metadata": {},
   "outputs": [
    {
     "name": "stdout",
     "output_type": "stream",
     "text": [
      "10  ,  6\n"
     ]
    }
   ],
   "source": [
    "print(5+5,\" , \",2*3)"
   ]
  },
  {
   "cell_type": "code",
   "execution_count": 19,
   "id": "afbbf61a-2036-461d-9152-7484d4433681",
   "metadata": {},
   "outputs": [],
   "source": [
    "#6. Take the name A as input from the user and print \"Hello A\", where A\n",
    "#the name in input."
   ]
  },
  {
   "cell_type": "code",
   "execution_count": 21,
   "id": "d7ae4c68-de88-4da5-93f6-11c1188aee0c",
   "metadata": {},
   "outputs": [
    {
     "name": "stdin",
     "output_type": "stream",
     "text": [
      "Enter your name prachi\n"
     ]
    },
    {
     "name": "stdout",
     "output_type": "stream",
     "text": [
      "Hello prachi\n"
     ]
    }
   ],
   "source": [
    "A = input(\"Enter your name\")\n",
    "print(\"Hello\",A)"
   ]
  },
  {
   "cell_type": "code",
   "execution_count": 22,
   "id": "a9b36e14-edf5-4560-a427-e39679755bbc",
   "metadata": {},
   "outputs": [],
   "source": [
    "#7. You have x rupees in your savings. You google pay y rupees, print your bank balance."
   ]
  },
  {
   "cell_type": "code",
   "execution_count": 24,
   "id": "4af66c5e-085c-4a40-87d9-9071df846d2d",
   "metadata": {},
   "outputs": [
    {
     "name": "stdin",
     "output_type": "stream",
     "text": [
      "Enter your savings 3000\n",
      "Enter the value you pay  1900\n"
     ]
    },
    {
     "name": "stdout",
     "output_type": "stream",
     "text": [
      "1100\n"
     ]
    }
   ],
   "source": [
    "X= int(input(\"Enter your savings\"))\n",
    "Y= int(input(\"Enter the value you pay \"))\n",
    "print(X-Y)\n",
    "    "
   ]
  },
  {
   "cell_type": "code",
   "execution_count": 25,
   "id": "024ba891-11dc-465a-af3a-58647c861eb6",
   "metadata": {},
   "outputs": [],
   "source": [
    "#3. Print the first five letters of the English alphabet i.e. A, B, C, D and E one below each other."
   ]
  },
  {
   "cell_type": "code",
   "execution_count": 28,
   "id": "c5f99e7c-572f-4e12-a524-18638dacdb49",
   "metadata": {},
   "outputs": [
    {
     "name": "stdout",
     "output_type": "stream",
     "text": [
      "A\n",
      "B\n",
      "C\n",
      "D\n",
      "E\n"
     ]
    }
   ],
   "source": [
    "print(\"A\\nB\\nC\\nD\\nE\")"
   ]
  },
  {
   "cell_type": "code",
   "execution_count": 30,
   "id": "d558a5cc-9cdc-4047-9a16-f580f9c9989c",
   "metadata": {},
   "outputs": [],
   "source": [
    "#4. Take two names A and B as input from the user, and print \"A says Hi to B\" (Without quotations), where A and B are the names in input."
   ]
  },
  {
   "cell_type": "code",
   "execution_count": 32,
   "id": "ce62162b-1ef7-46f3-94a9-f82d8191b04e",
   "metadata": {},
   "outputs": [
    {
     "name": "stdin",
     "output_type": "stream",
     "text": [
      "Enter the name prachi\n",
      "Enter the name pranjal\n"
     ]
    },
    {
     "name": "stdout",
     "output_type": "stream",
     "text": [
      "prachi says Hi to pranjal\n"
     ]
    }
   ],
   "source": [
    "A= input(\"Enter the name\")\n",
    "B= input(\"Enter the name\")\n",
    "C= \"says Hi to\"\n",
    "print(A,C,B)"
   ]
  },
  {
   "cell_type": "code",
   "execution_count": null,
   "id": "5a981eca-f30c-4b4b-985c-5bea9405d189",
   "metadata": {},
   "outputs": [],
   "source": []
  }
 ],
 "metadata": {
  "kernelspec": {
   "display_name": "Python 3 (ipykernel)",
   "language": "python",
   "name": "python3"
  },
  "language_info": {
   "codemirror_mode": {
    "name": "ipython",
    "version": 3
   },
   "file_extension": ".py",
   "mimetype": "text/x-python",
   "name": "python",
   "nbconvert_exporter": "python",
   "pygments_lexer": "ipython3",
   "version": "3.11.2"
  }
 },
 "nbformat": 4,
 "nbformat_minor": 5
}
